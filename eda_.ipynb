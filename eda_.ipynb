{
  "nbformat": 4,
  "nbformat_minor": 0,
  "metadata": {
    "kernelspec": {
      "display_name": "Python 3",
      "language": "python",
      "name": "python3"
    },
    "language_info": {
      "codemirror_mode": {
        "name": "ipython",
        "version": 3
      },
      "file_extension": ".py",
      "mimetype": "text/x-python",
      "name": "python",
      "nbconvert_exporter": "python",
      "pygments_lexer": "ipython3",
      "version": "3.7.3"
    },
    "colab": {
      "name": "eda .ipynb",
      "provenance": [],
      "collapsed_sections": [],
      "include_colab_link": true
    }
  },
  "cells": [
    {
      "cell_type": "markdown",
      "metadata": {
        "id": "view-in-github",
        "colab_type": "text"
      },
      "source": [
        "<a href=\"https://colab.research.google.com/github/Shreyabansal3112/Exploratory-Data-Analysis/blob/main/eda_.ipynb\" target=\"_parent\"><img src=\"https://colab.research.google.com/assets/colab-badge.svg\" alt=\"Open In Colab\"/></a>"
      ]
    },
    {
      "cell_type": "code",
      "metadata": {
        "id": "vKeb3JyxEgtg"
      },
      "source": [
        "import pandas as pd\n",
        "import numpy as np\n",
        "import seaborn as sns\n",
        "import matplotlib.pyplot as mp\n"
      ],
      "execution_count": null,
      "outputs": []
    },
    {
      "cell_type": "code",
      "metadata": {
        "id": "ZWtFB8OjEgum"
      },
      "source": [
        "data = {'Sno':[1,2,3,4,5,6,7,8,9,10,11,12,13,14,15,16,17,18,19,20,21],\n",
        "        'Student_Id':  ['S001','S002','S003','S004','S005','S006' ,'S007','S008','S009','S010 ','S011','S012','S013','S014','S015','S016','S017','S018','S019','S020','S021'],\n",
        "        'Gender': ['M','F','M','M','F','M','F','M','M','F','M','F','M','M','F','M','F','M','M','F','F'],\n",
        "        'Prev_Exam_Marks':[65,75,45,57,59,56,54,26,53,46,42,41,59,65,47,48,49,50,52,51,np.NaN],\n",
        "        'Height(cm)':[178,174,163,175,np.NaN,156,147,175,165,144,123,156,np.NaN,165,145,155,166,177,154,154,152],\n",
        "        'Weight(kg)':[61,56,62,70,67,66,56,52,53,51,54,np.NaN,56,65,47,65,63,52,54,51,56],\n",
        "        'Play_Cricket':[1,0,1,0,0,1,1,1,0,0,0,1,1,0,1,1,0,0,0,1,0]\n",
        "       }\n",
        "\n"
      ],
      "execution_count": null,
      "outputs": []
    },
    {
      "cell_type": "code",
      "metadata": {
        "id": "0e9pA2IBEgvT"
      },
      "source": [
        "df = pd.DataFrame (data, columns = ['Sno','Student_Id','Gender','Prev_Exam_Marks','Height(cm)','Weight(kg)','Play_Cricket'])\n"
      ],
      "execution_count": null,
      "outputs": []
    },
    {
      "cell_type": "code",
      "metadata": {
        "id": "FXFYA5x8Egvw",
        "colab": {
          "base_uri": "https://localhost:8080/",
          "height": 700
        },
        "outputId": "9aac17f0-b174-49cd-b5ea-b90ea21e039b"
      },
      "source": [
        "df"
      ],
      "execution_count": null,
      "outputs": [
        {
          "output_type": "execute_result",
          "data": {
            "text/html": [
              "<div>\n",
              "<style scoped>\n",
              "    .dataframe tbody tr th:only-of-type {\n",
              "        vertical-align: middle;\n",
              "    }\n",
              "\n",
              "    .dataframe tbody tr th {\n",
              "        vertical-align: top;\n",
              "    }\n",
              "\n",
              "    .dataframe thead th {\n",
              "        text-align: right;\n",
              "    }\n",
              "</style>\n",
              "<table border=\"1\" class=\"dataframe\">\n",
              "  <thead>\n",
              "    <tr style=\"text-align: right;\">\n",
              "      <th></th>\n",
              "      <th>Sno</th>\n",
              "      <th>Student_Id</th>\n",
              "      <th>Gender</th>\n",
              "      <th>Prev_Exam_Marks</th>\n",
              "      <th>Height(cm)</th>\n",
              "      <th>Weight(kg)</th>\n",
              "      <th>Play_Cricket</th>\n",
              "    </tr>\n",
              "  </thead>\n",
              "  <tbody>\n",
              "    <tr>\n",
              "      <th>0</th>\n",
              "      <td>1</td>\n",
              "      <td>S001</td>\n",
              "      <td>M</td>\n",
              "      <td>65.0</td>\n",
              "      <td>178.0</td>\n",
              "      <td>61.0</td>\n",
              "      <td>1</td>\n",
              "    </tr>\n",
              "    <tr>\n",
              "      <th>1</th>\n",
              "      <td>2</td>\n",
              "      <td>S002</td>\n",
              "      <td>F</td>\n",
              "      <td>75.0</td>\n",
              "      <td>174.0</td>\n",
              "      <td>56.0</td>\n",
              "      <td>0</td>\n",
              "    </tr>\n",
              "    <tr>\n",
              "      <th>2</th>\n",
              "      <td>3</td>\n",
              "      <td>S003</td>\n",
              "      <td>M</td>\n",
              "      <td>45.0</td>\n",
              "      <td>163.0</td>\n",
              "      <td>62.0</td>\n",
              "      <td>1</td>\n",
              "    </tr>\n",
              "    <tr>\n",
              "      <th>3</th>\n",
              "      <td>4</td>\n",
              "      <td>S004</td>\n",
              "      <td>M</td>\n",
              "      <td>57.0</td>\n",
              "      <td>175.0</td>\n",
              "      <td>70.0</td>\n",
              "      <td>0</td>\n",
              "    </tr>\n",
              "    <tr>\n",
              "      <th>4</th>\n",
              "      <td>5</td>\n",
              "      <td>S005</td>\n",
              "      <td>F</td>\n",
              "      <td>59.0</td>\n",
              "      <td>NaN</td>\n",
              "      <td>67.0</td>\n",
              "      <td>0</td>\n",
              "    </tr>\n",
              "    <tr>\n",
              "      <th>5</th>\n",
              "      <td>6</td>\n",
              "      <td>S006</td>\n",
              "      <td>M</td>\n",
              "      <td>56.0</td>\n",
              "      <td>156.0</td>\n",
              "      <td>66.0</td>\n",
              "      <td>1</td>\n",
              "    </tr>\n",
              "    <tr>\n",
              "      <th>6</th>\n",
              "      <td>7</td>\n",
              "      <td>S007</td>\n",
              "      <td>F</td>\n",
              "      <td>54.0</td>\n",
              "      <td>147.0</td>\n",
              "      <td>56.0</td>\n",
              "      <td>1</td>\n",
              "    </tr>\n",
              "    <tr>\n",
              "      <th>7</th>\n",
              "      <td>8</td>\n",
              "      <td>S008</td>\n",
              "      <td>M</td>\n",
              "      <td>26.0</td>\n",
              "      <td>175.0</td>\n",
              "      <td>52.0</td>\n",
              "      <td>1</td>\n",
              "    </tr>\n",
              "    <tr>\n",
              "      <th>8</th>\n",
              "      <td>9</td>\n",
              "      <td>S009</td>\n",
              "      <td>M</td>\n",
              "      <td>53.0</td>\n",
              "      <td>165.0</td>\n",
              "      <td>53.0</td>\n",
              "      <td>0</td>\n",
              "    </tr>\n",
              "    <tr>\n",
              "      <th>9</th>\n",
              "      <td>10</td>\n",
              "      <td>S010</td>\n",
              "      <td>F</td>\n",
              "      <td>46.0</td>\n",
              "      <td>144.0</td>\n",
              "      <td>51.0</td>\n",
              "      <td>0</td>\n",
              "    </tr>\n",
              "    <tr>\n",
              "      <th>10</th>\n",
              "      <td>11</td>\n",
              "      <td>S011</td>\n",
              "      <td>M</td>\n",
              "      <td>42.0</td>\n",
              "      <td>123.0</td>\n",
              "      <td>54.0</td>\n",
              "      <td>0</td>\n",
              "    </tr>\n",
              "    <tr>\n",
              "      <th>11</th>\n",
              "      <td>12</td>\n",
              "      <td>S012</td>\n",
              "      <td>F</td>\n",
              "      <td>41.0</td>\n",
              "      <td>156.0</td>\n",
              "      <td>NaN</td>\n",
              "      <td>1</td>\n",
              "    </tr>\n",
              "    <tr>\n",
              "      <th>12</th>\n",
              "      <td>13</td>\n",
              "      <td>S013</td>\n",
              "      <td>M</td>\n",
              "      <td>59.0</td>\n",
              "      <td>NaN</td>\n",
              "      <td>56.0</td>\n",
              "      <td>1</td>\n",
              "    </tr>\n",
              "    <tr>\n",
              "      <th>13</th>\n",
              "      <td>14</td>\n",
              "      <td>S014</td>\n",
              "      <td>M</td>\n",
              "      <td>65.0</td>\n",
              "      <td>165.0</td>\n",
              "      <td>65.0</td>\n",
              "      <td>0</td>\n",
              "    </tr>\n",
              "    <tr>\n",
              "      <th>14</th>\n",
              "      <td>15</td>\n",
              "      <td>S015</td>\n",
              "      <td>F</td>\n",
              "      <td>47.0</td>\n",
              "      <td>145.0</td>\n",
              "      <td>47.0</td>\n",
              "      <td>1</td>\n",
              "    </tr>\n",
              "    <tr>\n",
              "      <th>15</th>\n",
              "      <td>16</td>\n",
              "      <td>S016</td>\n",
              "      <td>M</td>\n",
              "      <td>48.0</td>\n",
              "      <td>155.0</td>\n",
              "      <td>65.0</td>\n",
              "      <td>1</td>\n",
              "    </tr>\n",
              "    <tr>\n",
              "      <th>16</th>\n",
              "      <td>17</td>\n",
              "      <td>S017</td>\n",
              "      <td>F</td>\n",
              "      <td>49.0</td>\n",
              "      <td>166.0</td>\n",
              "      <td>63.0</td>\n",
              "      <td>0</td>\n",
              "    </tr>\n",
              "    <tr>\n",
              "      <th>17</th>\n",
              "      <td>18</td>\n",
              "      <td>S018</td>\n",
              "      <td>M</td>\n",
              "      <td>50.0</td>\n",
              "      <td>177.0</td>\n",
              "      <td>52.0</td>\n",
              "      <td>0</td>\n",
              "    </tr>\n",
              "    <tr>\n",
              "      <th>18</th>\n",
              "      <td>19</td>\n",
              "      <td>S019</td>\n",
              "      <td>M</td>\n",
              "      <td>52.0</td>\n",
              "      <td>154.0</td>\n",
              "      <td>54.0</td>\n",
              "      <td>0</td>\n",
              "    </tr>\n",
              "    <tr>\n",
              "      <th>19</th>\n",
              "      <td>20</td>\n",
              "      <td>S020</td>\n",
              "      <td>F</td>\n",
              "      <td>51.0</td>\n",
              "      <td>154.0</td>\n",
              "      <td>51.0</td>\n",
              "      <td>1</td>\n",
              "    </tr>\n",
              "    <tr>\n",
              "      <th>20</th>\n",
              "      <td>21</td>\n",
              "      <td>S021</td>\n",
              "      <td>F</td>\n",
              "      <td>NaN</td>\n",
              "      <td>152.0</td>\n",
              "      <td>56.0</td>\n",
              "      <td>0</td>\n",
              "    </tr>\n",
              "  </tbody>\n",
              "</table>\n",
              "</div>"
            ],
            "text/plain": [
              "    Sno Student_Id Gender  ...  Height(cm)  Weight(kg)  Play_Cricket\n",
              "0     1       S001      M  ...       178.0        61.0             1\n",
              "1     2       S002      F  ...       174.0        56.0             0\n",
              "2     3       S003      M  ...       163.0        62.0             1\n",
              "3     4       S004      M  ...       175.0        70.0             0\n",
              "4     5       S005      F  ...         NaN        67.0             0\n",
              "5     6       S006      M  ...       156.0        66.0             1\n",
              "6     7       S007      F  ...       147.0        56.0             1\n",
              "7     8       S008      M  ...       175.0        52.0             1\n",
              "8     9       S009      M  ...       165.0        53.0             0\n",
              "9    10      S010       F  ...       144.0        51.0             0\n",
              "10   11       S011      M  ...       123.0        54.0             0\n",
              "11   12       S012      F  ...       156.0         NaN             1\n",
              "12   13       S013      M  ...         NaN        56.0             1\n",
              "13   14       S014      M  ...       165.0        65.0             0\n",
              "14   15       S015      F  ...       145.0        47.0             1\n",
              "15   16       S016      M  ...       155.0        65.0             1\n",
              "16   17       S017      F  ...       166.0        63.0             0\n",
              "17   18       S018      M  ...       177.0        52.0             0\n",
              "18   19       S019      M  ...       154.0        54.0             0\n",
              "19   20       S020      F  ...       154.0        51.0             1\n",
              "20   21       S021      F  ...       152.0        56.0             0\n",
              "\n",
              "[21 rows x 7 columns]"
            ]
          },
          "metadata": {
            "tags": []
          },
          "execution_count": 18
        }
      ]
    },
    {
      "cell_type": "code",
      "metadata": {
        "id": "w5drDFHJEgwr",
        "colab": {
          "base_uri": "https://localhost:8080/",
          "height": 255
        },
        "outputId": "e2d1cf56-94db-4235-82bd-282c9ade1ee7"
      },
      "source": [
        "df.info()"
      ],
      "execution_count": null,
      "outputs": [
        {
          "output_type": "stream",
          "text": [
            "<class 'pandas.core.frame.DataFrame'>\n",
            "RangeIndex: 21 entries, 0 to 20\n",
            "Data columns (total 7 columns):\n",
            " #   Column           Non-Null Count  Dtype  \n",
            "---  ------           --------------  -----  \n",
            " 0   Sno              21 non-null     int64  \n",
            " 1   Student_Id       21 non-null     object \n",
            " 2   Gender           21 non-null     object \n",
            " 3   Prev_Exam_Marks  20 non-null     float64\n",
            " 4   Height(cm)       19 non-null     float64\n",
            " 5   Weight(kg)       20 non-null     float64\n",
            " 6   Play_Cricket     21 non-null     int64  \n",
            "dtypes: float64(3), int64(2), object(2)\n",
            "memory usage: 1.3+ KB\n"
          ],
          "name": "stdout"
        }
      ]
    },
    {
      "cell_type": "code",
      "metadata": {
        "id": "j6Y645ACLBzX",
        "colab": {
          "base_uri": "https://localhost:8080/",
          "height": 391
        },
        "outputId": "47f0cfed-873a-4b04-9c13-7fa147d545a6"
      },
      "source": [
        "df['Height(cm)'].fillna(value df['Height(cm)'])"
      ],
      "execution_count": null,
      "outputs": [
        {
          "output_type": "execute_result",
          "data": {
            "text/plain": [
              "0     178.000000\n",
              "1     174.000000\n",
              "2     163.000000\n",
              "3     175.000000\n",
              "4     159.157895\n",
              "5     156.000000\n",
              "6     147.000000\n",
              "7     175.000000\n",
              "8     165.000000\n",
              "9     144.000000\n",
              "10    123.000000\n",
              "11    156.000000\n",
              "12    159.157895\n",
              "13    165.000000\n",
              "14    145.000000\n",
              "15    155.000000\n",
              "16    166.000000\n",
              "17    177.000000\n",
              "18    154.000000\n",
              "19    154.000000\n",
              "20    152.000000\n",
              "Name: Height(cm), dtype: float64"
            ]
          },
          "metadata": {
            "tags": []
          },
          "execution_count": 20
        }
      ]
    },
    {
      "cell_type": "code",
      "metadata": {
        "id": "NKjkMMpYCWg3",
        "colab": {
          "base_uri": "https://localhost:8080/",
          "height": 391
        },
        "outputId": "4d41bf7f-9cc3-4440-c2e7-b888694a5e1d"
      },
      "source": [
        "va = 65\n",
        "df.loc[(df['Gender']=='M')&(df['Weight(kg)'].isnull()),'Weight(kg)']= va\n",
        "df['Weight(kg)']"
      ],
      "execution_count": null,
      "outputs": [
        {
          "output_type": "execute_result",
          "data": {
            "text/plain": [
              "0     61.0\n",
              "1     56.0\n",
              "2     62.0\n",
              "3     70.0\n",
              "4     67.0\n",
              "5     66.0\n",
              "6     56.0\n",
              "7     52.0\n",
              "8     53.0\n",
              "9     51.0\n",
              "10    54.0\n",
              "11     NaN\n",
              "12    56.0\n",
              "13    65.0\n",
              "14    47.0\n",
              "15    65.0\n",
              "16    63.0\n",
              "17    52.0\n",
              "18    54.0\n",
              "19    51.0\n",
              "20    56.0\n",
              "Name: Weight(kg), dtype: float64"
            ]
          },
          "metadata": {
            "tags": []
          },
          "execution_count": 35
        }
      ]
    },
    {
      "cell_type": "code",
      "metadata": {
        "id": "cNdU-Qs2D6Qw",
        "colab": {
          "base_uri": "https://localhost:8080/",
          "height": 391
        },
        "outputId": "9fce74f5-dbf9-407e-e4e0-865c96aa7ba1"
      },
      "source": [
        "va = 54\n",
        "df.loc[(df['Gender']=='F')&(df['Weight(kg)'].isnull()),'Weight(kg)']= va\n",
        "df['Weight(kg)']"
      ],
      "execution_count": null,
      "outputs": [
        {
          "output_type": "execute_result",
          "data": {
            "text/plain": [
              "0     61.0\n",
              "1     56.0\n",
              "2     62.0\n",
              "3     70.0\n",
              "4     67.0\n",
              "5     66.0\n",
              "6     56.0\n",
              "7     52.0\n",
              "8     53.0\n",
              "9     51.0\n",
              "10    54.0\n",
              "11    54.0\n",
              "12    56.0\n",
              "13    65.0\n",
              "14    47.0\n",
              "15    65.0\n",
              "16    63.0\n",
              "17    52.0\n",
              "18    54.0\n",
              "19    51.0\n",
              "20    56.0\n",
              "Name: Weight(kg), dtype: float64"
            ]
          },
          "metadata": {
            "tags": []
          },
          "execution_count": 44
        }
      ]
    },
    {
      "cell_type": "code",
      "metadata": {
        "id": "SXiRd71gKoR-",
        "colab": {
          "base_uri": "https://localhost:8080/",
          "height": 607
        },
        "outputId": "332a1efa-b6f5-4f3e-b6ff-e80711d9f584"
      },
      "source": [
        "df= df.dropna()\n",
        "df"
      ],
      "execution_count": null,
      "outputs": [
        {
          "output_type": "execute_result",
          "data": {
            "text/html": [
              "<div>\n",
              "<style scoped>\n",
              "    .dataframe tbody tr th:only-of-type {\n",
              "        vertical-align: middle;\n",
              "    }\n",
              "\n",
              "    .dataframe tbody tr th {\n",
              "        vertical-align: top;\n",
              "    }\n",
              "\n",
              "    .dataframe thead th {\n",
              "        text-align: right;\n",
              "    }\n",
              "</style>\n",
              "<table border=\"1\" class=\"dataframe\">\n",
              "  <thead>\n",
              "    <tr style=\"text-align: right;\">\n",
              "      <th></th>\n",
              "      <th>Sno</th>\n",
              "      <th>Student_Id</th>\n",
              "      <th>Gender</th>\n",
              "      <th>Prev_Exam_Marks</th>\n",
              "      <th>Height(cm)</th>\n",
              "      <th>Weight(kg)</th>\n",
              "      <th>Play_Cricket</th>\n",
              "    </tr>\n",
              "  </thead>\n",
              "  <tbody>\n",
              "    <tr>\n",
              "      <th>0</th>\n",
              "      <td>1</td>\n",
              "      <td>S001</td>\n",
              "      <td>M</td>\n",
              "      <td>65.0</td>\n",
              "      <td>178.0</td>\n",
              "      <td>61.0</td>\n",
              "      <td>1</td>\n",
              "    </tr>\n",
              "    <tr>\n",
              "      <th>1</th>\n",
              "      <td>2</td>\n",
              "      <td>S002</td>\n",
              "      <td>F</td>\n",
              "      <td>75.0</td>\n",
              "      <td>174.0</td>\n",
              "      <td>56.0</td>\n",
              "      <td>0</td>\n",
              "    </tr>\n",
              "    <tr>\n",
              "      <th>2</th>\n",
              "      <td>3</td>\n",
              "      <td>S003</td>\n",
              "      <td>M</td>\n",
              "      <td>45.0</td>\n",
              "      <td>163.0</td>\n",
              "      <td>62.0</td>\n",
              "      <td>1</td>\n",
              "    </tr>\n",
              "    <tr>\n",
              "      <th>3</th>\n",
              "      <td>4</td>\n",
              "      <td>S004</td>\n",
              "      <td>M</td>\n",
              "      <td>57.0</td>\n",
              "      <td>175.0</td>\n",
              "      <td>70.0</td>\n",
              "      <td>0</td>\n",
              "    </tr>\n",
              "    <tr>\n",
              "      <th>5</th>\n",
              "      <td>6</td>\n",
              "      <td>S006</td>\n",
              "      <td>M</td>\n",
              "      <td>56.0</td>\n",
              "      <td>156.0</td>\n",
              "      <td>66.0</td>\n",
              "      <td>1</td>\n",
              "    </tr>\n",
              "    <tr>\n",
              "      <th>6</th>\n",
              "      <td>7</td>\n",
              "      <td>S007</td>\n",
              "      <td>F</td>\n",
              "      <td>54.0</td>\n",
              "      <td>147.0</td>\n",
              "      <td>56.0</td>\n",
              "      <td>1</td>\n",
              "    </tr>\n",
              "    <tr>\n",
              "      <th>7</th>\n",
              "      <td>8</td>\n",
              "      <td>S008</td>\n",
              "      <td>M</td>\n",
              "      <td>26.0</td>\n",
              "      <td>175.0</td>\n",
              "      <td>52.0</td>\n",
              "      <td>1</td>\n",
              "    </tr>\n",
              "    <tr>\n",
              "      <th>8</th>\n",
              "      <td>9</td>\n",
              "      <td>S009</td>\n",
              "      <td>M</td>\n",
              "      <td>53.0</td>\n",
              "      <td>165.0</td>\n",
              "      <td>53.0</td>\n",
              "      <td>0</td>\n",
              "    </tr>\n",
              "    <tr>\n",
              "      <th>9</th>\n",
              "      <td>10</td>\n",
              "      <td>S010</td>\n",
              "      <td>F</td>\n",
              "      <td>46.0</td>\n",
              "      <td>144.0</td>\n",
              "      <td>51.0</td>\n",
              "      <td>0</td>\n",
              "    </tr>\n",
              "    <tr>\n",
              "      <th>10</th>\n",
              "      <td>11</td>\n",
              "      <td>S011</td>\n",
              "      <td>M</td>\n",
              "      <td>42.0</td>\n",
              "      <td>123.0</td>\n",
              "      <td>54.0</td>\n",
              "      <td>0</td>\n",
              "    </tr>\n",
              "    <tr>\n",
              "      <th>11</th>\n",
              "      <td>12</td>\n",
              "      <td>S012</td>\n",
              "      <td>F</td>\n",
              "      <td>41.0</td>\n",
              "      <td>156.0</td>\n",
              "      <td>54.0</td>\n",
              "      <td>1</td>\n",
              "    </tr>\n",
              "    <tr>\n",
              "      <th>13</th>\n",
              "      <td>14</td>\n",
              "      <td>S014</td>\n",
              "      <td>M</td>\n",
              "      <td>65.0</td>\n",
              "      <td>165.0</td>\n",
              "      <td>65.0</td>\n",
              "      <td>0</td>\n",
              "    </tr>\n",
              "    <tr>\n",
              "      <th>14</th>\n",
              "      <td>15</td>\n",
              "      <td>S015</td>\n",
              "      <td>F</td>\n",
              "      <td>47.0</td>\n",
              "      <td>145.0</td>\n",
              "      <td>47.0</td>\n",
              "      <td>1</td>\n",
              "    </tr>\n",
              "    <tr>\n",
              "      <th>15</th>\n",
              "      <td>16</td>\n",
              "      <td>S016</td>\n",
              "      <td>M</td>\n",
              "      <td>48.0</td>\n",
              "      <td>155.0</td>\n",
              "      <td>65.0</td>\n",
              "      <td>1</td>\n",
              "    </tr>\n",
              "    <tr>\n",
              "      <th>16</th>\n",
              "      <td>17</td>\n",
              "      <td>S017</td>\n",
              "      <td>F</td>\n",
              "      <td>49.0</td>\n",
              "      <td>166.0</td>\n",
              "      <td>63.0</td>\n",
              "      <td>0</td>\n",
              "    </tr>\n",
              "    <tr>\n",
              "      <th>17</th>\n",
              "      <td>18</td>\n",
              "      <td>S018</td>\n",
              "      <td>M</td>\n",
              "      <td>50.0</td>\n",
              "      <td>177.0</td>\n",
              "      <td>52.0</td>\n",
              "      <td>0</td>\n",
              "    </tr>\n",
              "    <tr>\n",
              "      <th>18</th>\n",
              "      <td>19</td>\n",
              "      <td>S019</td>\n",
              "      <td>M</td>\n",
              "      <td>52.0</td>\n",
              "      <td>154.0</td>\n",
              "      <td>54.0</td>\n",
              "      <td>0</td>\n",
              "    </tr>\n",
              "    <tr>\n",
              "      <th>19</th>\n",
              "      <td>20</td>\n",
              "      <td>S020</td>\n",
              "      <td>F</td>\n",
              "      <td>51.0</td>\n",
              "      <td>154.0</td>\n",
              "      <td>51.0</td>\n",
              "      <td>1</td>\n",
              "    </tr>\n",
              "  </tbody>\n",
              "</table>\n",
              "</div>"
            ],
            "text/plain": [
              "    Sno Student_Id Gender  ...  Height(cm)  Weight(kg)  Play_Cricket\n",
              "0     1       S001      M  ...       178.0        61.0             1\n",
              "1     2       S002      F  ...       174.0        56.0             0\n",
              "2     3       S003      M  ...       163.0        62.0             1\n",
              "3     4       S004      M  ...       175.0        70.0             0\n",
              "5     6       S006      M  ...       156.0        66.0             1\n",
              "6     7       S007      F  ...       147.0        56.0             1\n",
              "7     8       S008      M  ...       175.0        52.0             1\n",
              "8     9       S009      M  ...       165.0        53.0             0\n",
              "9    10      S010       F  ...       144.0        51.0             0\n",
              "10   11       S011      M  ...       123.0        54.0             0\n",
              "11   12       S012      F  ...       156.0        54.0             1\n",
              "13   14       S014      M  ...       165.0        65.0             0\n",
              "14   15       S015      F  ...       145.0        47.0             1\n",
              "15   16       S016      M  ...       155.0        65.0             1\n",
              "16   17       S017      F  ...       166.0        63.0             0\n",
              "17   18       S018      M  ...       177.0        52.0             0\n",
              "18   19       S019      M  ...       154.0        54.0             0\n",
              "19   20       S020      F  ...       154.0        51.0             1\n",
              "\n",
              "[18 rows x 7 columns]"
            ]
          },
          "metadata": {
            "tags": []
          },
          "execution_count": 63
        }
      ]
    },
    {
      "cell_type": "code",
      "metadata": {
        "id": "GjgjoilKJRxa"
      },
      "source": [
        "df=df.drop('Weight(kg',axis= 1)"
      ],
      "execution_count": null,
      "outputs": []
    },
    {
      "cell_type": "code",
      "metadata": {
        "id": "VJPyOCdYEgxY",
        "colab": {
          "base_uri": "https://localhost:8080/",
          "height": 297
        },
        "outputId": "497c49f0-38a9-4073-e455-808b1415bce0"
      },
      "source": [
        "df.describe()"
      ],
      "execution_count": null,
      "outputs": [
        {
          "output_type": "execute_result",
          "data": {
            "text/html": [
              "<div>\n",
              "<style scoped>\n",
              "    .dataframe tbody tr th:only-of-type {\n",
              "        vertical-align: middle;\n",
              "    }\n",
              "\n",
              "    .dataframe tbody tr th {\n",
              "        vertical-align: top;\n",
              "    }\n",
              "\n",
              "    .dataframe thead th {\n",
              "        text-align: right;\n",
              "    }\n",
              "</style>\n",
              "<table border=\"1\" class=\"dataframe\">\n",
              "  <thead>\n",
              "    <tr style=\"text-align: right;\">\n",
              "      <th></th>\n",
              "      <th>Sno</th>\n",
              "      <th>Prev_Exam_Marks</th>\n",
              "      <th>Height(cm)</th>\n",
              "      <th>Weight(kg)</th>\n",
              "      <th>Play_Cricket</th>\n",
              "    </tr>\n",
              "  </thead>\n",
              "  <tbody>\n",
              "    <tr>\n",
              "      <th>count</th>\n",
              "      <td>18.000000</td>\n",
              "      <td>18.000000</td>\n",
              "      <td>18.000000</td>\n",
              "      <td>18.000000</td>\n",
              "      <td>18.000000</td>\n",
              "    </tr>\n",
              "    <tr>\n",
              "      <th>mean</th>\n",
              "      <td>10.666667</td>\n",
              "      <td>51.222222</td>\n",
              "      <td>159.555556</td>\n",
              "      <td>57.333333</td>\n",
              "      <td>0.500000</td>\n",
              "    </tr>\n",
              "    <tr>\n",
              "      <th>std</th>\n",
              "      <td>6.077925</td>\n",
              "      <td>10.680139</td>\n",
              "      <td>14.345412</td>\n",
              "      <td>6.507914</td>\n",
              "      <td>0.514496</td>\n",
              "    </tr>\n",
              "    <tr>\n",
              "      <th>min</th>\n",
              "      <td>1.000000</td>\n",
              "      <td>26.000000</td>\n",
              "      <td>123.000000</td>\n",
              "      <td>47.000000</td>\n",
              "      <td>0.000000</td>\n",
              "    </tr>\n",
              "    <tr>\n",
              "      <th>25%</th>\n",
              "      <td>6.250000</td>\n",
              "      <td>46.250000</td>\n",
              "      <td>154.000000</td>\n",
              "      <td>52.250000</td>\n",
              "      <td>0.000000</td>\n",
              "    </tr>\n",
              "    <tr>\n",
              "      <th>50%</th>\n",
              "      <td>10.500000</td>\n",
              "      <td>50.500000</td>\n",
              "      <td>159.500000</td>\n",
              "      <td>55.000000</td>\n",
              "      <td>0.500000</td>\n",
              "    </tr>\n",
              "    <tr>\n",
              "      <th>75%</th>\n",
              "      <td>15.750000</td>\n",
              "      <td>55.500000</td>\n",
              "      <td>172.000000</td>\n",
              "      <td>62.750000</td>\n",
              "      <td>1.000000</td>\n",
              "    </tr>\n",
              "    <tr>\n",
              "      <th>max</th>\n",
              "      <td>20.000000</td>\n",
              "      <td>75.000000</td>\n",
              "      <td>178.000000</td>\n",
              "      <td>70.000000</td>\n",
              "      <td>1.000000</td>\n",
              "    </tr>\n",
              "  </tbody>\n",
              "</table>\n",
              "</div>"
            ],
            "text/plain": [
              "             Sno  Prev_Exam_Marks  Height(cm)  Weight(kg)  Play_Cricket\n",
              "count  18.000000        18.000000   18.000000   18.000000     18.000000\n",
              "mean   10.666667        51.222222  159.555556   57.333333      0.500000\n",
              "std     6.077925        10.680139   14.345412    6.507914      0.514496\n",
              "min     1.000000        26.000000  123.000000   47.000000      0.000000\n",
              "25%     6.250000        46.250000  154.000000   52.250000      0.000000\n",
              "50%    10.500000        50.500000  159.500000   55.000000      0.500000\n",
              "75%    15.750000        55.500000  172.000000   62.750000      1.000000\n",
              "max    20.000000        75.000000  178.000000   70.000000      1.000000"
            ]
          },
          "metadata": {
            "tags": []
          },
          "execution_count": 64
        }
      ]
    },
    {
      "cell_type": "code",
      "metadata": {
        "id": "g8b1Qf8nEgx5",
        "colab": {
          "base_uri": "https://localhost:8080/",
          "height": 68
        },
        "outputId": "84e20c79-4fa2-4e0e-8b08-6f7330bda57d"
      },
      "source": [
        "df['Gender'].value_counts()"
      ],
      "execution_count": null,
      "outputs": [
        {
          "output_type": "execute_result",
          "data": {
            "text/plain": [
              "M    11\n",
              "F     7\n",
              "Name: Gender, dtype: int64"
            ]
          },
          "metadata": {
            "tags": []
          },
          "execution_count": 65
        }
      ]
    },
    {
      "cell_type": "code",
      "metadata": {
        "id": "4IZym87JEgyS"
      },
      "source": [
        "tmp=df.drop('Sno',axis=1)"
      ],
      "execution_count": null,
      "outputs": []
    },
    {
      "cell_type": "code",
      "metadata": {
        "id": "aqbAJbKbEgyh"
      },
      "source": [
        "target=df['Play_Cricket']"
      ],
      "execution_count": null,
      "outputs": []
    },
    {
      "cell_type": "code",
      "metadata": {
        "id": "EZpUrOK6Egyw"
      },
      "source": [
        "data=tmp.drop('Play_Cricket',axis=1)"
      ],
      "execution_count": null,
      "outputs": []
    },
    {
      "cell_type": "code",
      "metadata": {
        "id": "xaaNvAJWEgy9",
        "colab": {
          "base_uri": "https://localhost:8080/",
          "height": 607
        },
        "outputId": "188aaa04-1653-4bfa-c207-c8a3afafa1ee"
      },
      "source": [
        "data"
      ],
      "execution_count": null,
      "outputs": [
        {
          "output_type": "execute_result",
          "data": {
            "text/html": [
              "<div>\n",
              "<style scoped>\n",
              "    .dataframe tbody tr th:only-of-type {\n",
              "        vertical-align: middle;\n",
              "    }\n",
              "\n",
              "    .dataframe tbody tr th {\n",
              "        vertical-align: top;\n",
              "    }\n",
              "\n",
              "    .dataframe thead th {\n",
              "        text-align: right;\n",
              "    }\n",
              "</style>\n",
              "<table border=\"1\" class=\"dataframe\">\n",
              "  <thead>\n",
              "    <tr style=\"text-align: right;\">\n",
              "      <th></th>\n",
              "      <th>Student_Id</th>\n",
              "      <th>Gender</th>\n",
              "      <th>Prev_Exam_Marks</th>\n",
              "      <th>Height(cm)</th>\n",
              "      <th>Weight(kg)</th>\n",
              "    </tr>\n",
              "  </thead>\n",
              "  <tbody>\n",
              "    <tr>\n",
              "      <th>0</th>\n",
              "      <td>S001</td>\n",
              "      <td>M</td>\n",
              "      <td>65.0</td>\n",
              "      <td>178.0</td>\n",
              "      <td>61.0</td>\n",
              "    </tr>\n",
              "    <tr>\n",
              "      <th>1</th>\n",
              "      <td>S002</td>\n",
              "      <td>F</td>\n",
              "      <td>75.0</td>\n",
              "      <td>174.0</td>\n",
              "      <td>56.0</td>\n",
              "    </tr>\n",
              "    <tr>\n",
              "      <th>2</th>\n",
              "      <td>S003</td>\n",
              "      <td>M</td>\n",
              "      <td>45.0</td>\n",
              "      <td>163.0</td>\n",
              "      <td>62.0</td>\n",
              "    </tr>\n",
              "    <tr>\n",
              "      <th>3</th>\n",
              "      <td>S004</td>\n",
              "      <td>M</td>\n",
              "      <td>57.0</td>\n",
              "      <td>175.0</td>\n",
              "      <td>70.0</td>\n",
              "    </tr>\n",
              "    <tr>\n",
              "      <th>5</th>\n",
              "      <td>S006</td>\n",
              "      <td>M</td>\n",
              "      <td>56.0</td>\n",
              "      <td>156.0</td>\n",
              "      <td>66.0</td>\n",
              "    </tr>\n",
              "    <tr>\n",
              "      <th>6</th>\n",
              "      <td>S007</td>\n",
              "      <td>F</td>\n",
              "      <td>54.0</td>\n",
              "      <td>147.0</td>\n",
              "      <td>56.0</td>\n",
              "    </tr>\n",
              "    <tr>\n",
              "      <th>7</th>\n",
              "      <td>S008</td>\n",
              "      <td>M</td>\n",
              "      <td>26.0</td>\n",
              "      <td>175.0</td>\n",
              "      <td>52.0</td>\n",
              "    </tr>\n",
              "    <tr>\n",
              "      <th>8</th>\n",
              "      <td>S009</td>\n",
              "      <td>M</td>\n",
              "      <td>53.0</td>\n",
              "      <td>165.0</td>\n",
              "      <td>53.0</td>\n",
              "    </tr>\n",
              "    <tr>\n",
              "      <th>9</th>\n",
              "      <td>S010</td>\n",
              "      <td>F</td>\n",
              "      <td>46.0</td>\n",
              "      <td>144.0</td>\n",
              "      <td>51.0</td>\n",
              "    </tr>\n",
              "    <tr>\n",
              "      <th>10</th>\n",
              "      <td>S011</td>\n",
              "      <td>M</td>\n",
              "      <td>42.0</td>\n",
              "      <td>123.0</td>\n",
              "      <td>54.0</td>\n",
              "    </tr>\n",
              "    <tr>\n",
              "      <th>11</th>\n",
              "      <td>S012</td>\n",
              "      <td>F</td>\n",
              "      <td>41.0</td>\n",
              "      <td>156.0</td>\n",
              "      <td>54.0</td>\n",
              "    </tr>\n",
              "    <tr>\n",
              "      <th>13</th>\n",
              "      <td>S014</td>\n",
              "      <td>M</td>\n",
              "      <td>65.0</td>\n",
              "      <td>165.0</td>\n",
              "      <td>65.0</td>\n",
              "    </tr>\n",
              "    <tr>\n",
              "      <th>14</th>\n",
              "      <td>S015</td>\n",
              "      <td>F</td>\n",
              "      <td>47.0</td>\n",
              "      <td>145.0</td>\n",
              "      <td>47.0</td>\n",
              "    </tr>\n",
              "    <tr>\n",
              "      <th>15</th>\n",
              "      <td>S016</td>\n",
              "      <td>M</td>\n",
              "      <td>48.0</td>\n",
              "      <td>155.0</td>\n",
              "      <td>65.0</td>\n",
              "    </tr>\n",
              "    <tr>\n",
              "      <th>16</th>\n",
              "      <td>S017</td>\n",
              "      <td>F</td>\n",
              "      <td>49.0</td>\n",
              "      <td>166.0</td>\n",
              "      <td>63.0</td>\n",
              "    </tr>\n",
              "    <tr>\n",
              "      <th>17</th>\n",
              "      <td>S018</td>\n",
              "      <td>M</td>\n",
              "      <td>50.0</td>\n",
              "      <td>177.0</td>\n",
              "      <td>52.0</td>\n",
              "    </tr>\n",
              "    <tr>\n",
              "      <th>18</th>\n",
              "      <td>S019</td>\n",
              "      <td>M</td>\n",
              "      <td>52.0</td>\n",
              "      <td>154.0</td>\n",
              "      <td>54.0</td>\n",
              "    </tr>\n",
              "    <tr>\n",
              "      <th>19</th>\n",
              "      <td>S020</td>\n",
              "      <td>F</td>\n",
              "      <td>51.0</td>\n",
              "      <td>154.0</td>\n",
              "      <td>51.0</td>\n",
              "    </tr>\n",
              "  </tbody>\n",
              "</table>\n",
              "</div>"
            ],
            "text/plain": [
              "   Student_Id Gender  Prev_Exam_Marks  Height(cm)  Weight(kg)\n",
              "0        S001      M             65.0       178.0        61.0\n",
              "1        S002      F             75.0       174.0        56.0\n",
              "2        S003      M             45.0       163.0        62.0\n",
              "3        S004      M             57.0       175.0        70.0\n",
              "5        S006      M             56.0       156.0        66.0\n",
              "6        S007      F             54.0       147.0        56.0\n",
              "7        S008      M             26.0       175.0        52.0\n",
              "8        S009      M             53.0       165.0        53.0\n",
              "9       S010       F             46.0       144.0        51.0\n",
              "10       S011      M             42.0       123.0        54.0\n",
              "11       S012      F             41.0       156.0        54.0\n",
              "13       S014      M             65.0       165.0        65.0\n",
              "14       S015      F             47.0       145.0        47.0\n",
              "15       S016      M             48.0       155.0        65.0\n",
              "16       S017      F             49.0       166.0        63.0\n",
              "17       S018      M             50.0       177.0        52.0\n",
              "18       S019      M             52.0       154.0        54.0\n",
              "19       S020      F             51.0       154.0        51.0"
            ]
          },
          "metadata": {
            "tags": []
          },
          "execution_count": 69
        }
      ]
    },
    {
      "cell_type": "code",
      "metadata": {
        "id": "mM1AmAj_EgzW",
        "colab": {
          "base_uri": "https://localhost:8080/",
          "height": 340
        },
        "outputId": "9349fc21-b686-43b3-88af-a7d82f9beeae"
      },
      "source": [
        "target"
      ],
      "execution_count": null,
      "outputs": [
        {
          "output_type": "execute_result",
          "data": {
            "text/plain": [
              "0     1\n",
              "1     0\n",
              "2     1\n",
              "3     0\n",
              "5     1\n",
              "6     1\n",
              "7     1\n",
              "8     0\n",
              "9     0\n",
              "10    0\n",
              "11    1\n",
              "13    0\n",
              "14    1\n",
              "15    1\n",
              "16    0\n",
              "17    0\n",
              "18    0\n",
              "19    1\n",
              "Name: Play_Cricket, dtype: int64"
            ]
          },
          "metadata": {
            "tags": []
          },
          "execution_count": 70
        }
      ]
    },
    {
      "cell_type": "code",
      "metadata": {
        "id": "CpBUi5JFEgzr",
        "colab": {
          "base_uri": "https://localhost:8080/",
          "height": 607
        },
        "outputId": "04fb63c9-ceea-4766-b8be-8ec334330ede"
      },
      "source": [
        "tmp=tmp.drop('Student_Id',axis=1)\n",
        "\n",
        "\n",
        "tmp"
      ],
      "execution_count": null,
      "outputs": [
        {
          "output_type": "execute_result",
          "data": {
            "text/html": [
              "<div>\n",
              "<style scoped>\n",
              "    .dataframe tbody tr th:only-of-type {\n",
              "        vertical-align: middle;\n",
              "    }\n",
              "\n",
              "    .dataframe tbody tr th {\n",
              "        vertical-align: top;\n",
              "    }\n",
              "\n",
              "    .dataframe thead th {\n",
              "        text-align: right;\n",
              "    }\n",
              "</style>\n",
              "<table border=\"1\" class=\"dataframe\">\n",
              "  <thead>\n",
              "    <tr style=\"text-align: right;\">\n",
              "      <th></th>\n",
              "      <th>Gender</th>\n",
              "      <th>Prev_Exam_Marks</th>\n",
              "      <th>Height(cm)</th>\n",
              "      <th>Weight(kg)</th>\n",
              "      <th>Play_Cricket</th>\n",
              "    </tr>\n",
              "  </thead>\n",
              "  <tbody>\n",
              "    <tr>\n",
              "      <th>0</th>\n",
              "      <td>M</td>\n",
              "      <td>65.0</td>\n",
              "      <td>178.0</td>\n",
              "      <td>61.0</td>\n",
              "      <td>1</td>\n",
              "    </tr>\n",
              "    <tr>\n",
              "      <th>1</th>\n",
              "      <td>F</td>\n",
              "      <td>75.0</td>\n",
              "      <td>174.0</td>\n",
              "      <td>56.0</td>\n",
              "      <td>0</td>\n",
              "    </tr>\n",
              "    <tr>\n",
              "      <th>2</th>\n",
              "      <td>M</td>\n",
              "      <td>45.0</td>\n",
              "      <td>163.0</td>\n",
              "      <td>62.0</td>\n",
              "      <td>1</td>\n",
              "    </tr>\n",
              "    <tr>\n",
              "      <th>3</th>\n",
              "      <td>M</td>\n",
              "      <td>57.0</td>\n",
              "      <td>175.0</td>\n",
              "      <td>70.0</td>\n",
              "      <td>0</td>\n",
              "    </tr>\n",
              "    <tr>\n",
              "      <th>5</th>\n",
              "      <td>M</td>\n",
              "      <td>56.0</td>\n",
              "      <td>156.0</td>\n",
              "      <td>66.0</td>\n",
              "      <td>1</td>\n",
              "    </tr>\n",
              "    <tr>\n",
              "      <th>6</th>\n",
              "      <td>F</td>\n",
              "      <td>54.0</td>\n",
              "      <td>147.0</td>\n",
              "      <td>56.0</td>\n",
              "      <td>1</td>\n",
              "    </tr>\n",
              "    <tr>\n",
              "      <th>7</th>\n",
              "      <td>M</td>\n",
              "      <td>26.0</td>\n",
              "      <td>175.0</td>\n",
              "      <td>52.0</td>\n",
              "      <td>1</td>\n",
              "    </tr>\n",
              "    <tr>\n",
              "      <th>8</th>\n",
              "      <td>M</td>\n",
              "      <td>53.0</td>\n",
              "      <td>165.0</td>\n",
              "      <td>53.0</td>\n",
              "      <td>0</td>\n",
              "    </tr>\n",
              "    <tr>\n",
              "      <th>9</th>\n",
              "      <td>F</td>\n",
              "      <td>46.0</td>\n",
              "      <td>144.0</td>\n",
              "      <td>51.0</td>\n",
              "      <td>0</td>\n",
              "    </tr>\n",
              "    <tr>\n",
              "      <th>10</th>\n",
              "      <td>M</td>\n",
              "      <td>42.0</td>\n",
              "      <td>123.0</td>\n",
              "      <td>54.0</td>\n",
              "      <td>0</td>\n",
              "    </tr>\n",
              "    <tr>\n",
              "      <th>11</th>\n",
              "      <td>F</td>\n",
              "      <td>41.0</td>\n",
              "      <td>156.0</td>\n",
              "      <td>54.0</td>\n",
              "      <td>1</td>\n",
              "    </tr>\n",
              "    <tr>\n",
              "      <th>13</th>\n",
              "      <td>M</td>\n",
              "      <td>65.0</td>\n",
              "      <td>165.0</td>\n",
              "      <td>65.0</td>\n",
              "      <td>0</td>\n",
              "    </tr>\n",
              "    <tr>\n",
              "      <th>14</th>\n",
              "      <td>F</td>\n",
              "      <td>47.0</td>\n",
              "      <td>145.0</td>\n",
              "      <td>47.0</td>\n",
              "      <td>1</td>\n",
              "    </tr>\n",
              "    <tr>\n",
              "      <th>15</th>\n",
              "      <td>M</td>\n",
              "      <td>48.0</td>\n",
              "      <td>155.0</td>\n",
              "      <td>65.0</td>\n",
              "      <td>1</td>\n",
              "    </tr>\n",
              "    <tr>\n",
              "      <th>16</th>\n",
              "      <td>F</td>\n",
              "      <td>49.0</td>\n",
              "      <td>166.0</td>\n",
              "      <td>63.0</td>\n",
              "      <td>0</td>\n",
              "    </tr>\n",
              "    <tr>\n",
              "      <th>17</th>\n",
              "      <td>M</td>\n",
              "      <td>50.0</td>\n",
              "      <td>177.0</td>\n",
              "      <td>52.0</td>\n",
              "      <td>0</td>\n",
              "    </tr>\n",
              "    <tr>\n",
              "      <th>18</th>\n",
              "      <td>M</td>\n",
              "      <td>52.0</td>\n",
              "      <td>154.0</td>\n",
              "      <td>54.0</td>\n",
              "      <td>0</td>\n",
              "    </tr>\n",
              "    <tr>\n",
              "      <th>19</th>\n",
              "      <td>F</td>\n",
              "      <td>51.0</td>\n",
              "      <td>154.0</td>\n",
              "      <td>51.0</td>\n",
              "      <td>1</td>\n",
              "    </tr>\n",
              "  </tbody>\n",
              "</table>\n",
              "</div>"
            ],
            "text/plain": [
              "   Gender  Prev_Exam_Marks  Height(cm)  Weight(kg)  Play_Cricket\n",
              "0       M             65.0       178.0        61.0             1\n",
              "1       F             75.0       174.0        56.0             0\n",
              "2       M             45.0       163.0        62.0             1\n",
              "3       M             57.0       175.0        70.0             0\n",
              "5       M             56.0       156.0        66.0             1\n",
              "6       F             54.0       147.0        56.0             1\n",
              "7       M             26.0       175.0        52.0             1\n",
              "8       M             53.0       165.0        53.0             0\n",
              "9       F             46.0       144.0        51.0             0\n",
              "10      M             42.0       123.0        54.0             0\n",
              "11      F             41.0       156.0        54.0             1\n",
              "13      M             65.0       165.0        65.0             0\n",
              "14      F             47.0       145.0        47.0             1\n",
              "15      M             48.0       155.0        65.0             1\n",
              "16      F             49.0       166.0        63.0             0\n",
              "17      M             50.0       177.0        52.0             0\n",
              "18      M             52.0       154.0        54.0             0\n",
              "19      F             51.0       154.0        51.0             1"
            ]
          },
          "metadata": {
            "tags": []
          },
          "execution_count": 71
        }
      ]
    },
    {
      "cell_type": "code",
      "metadata": {
        "id": "3zKdjNVDEgz-",
        "colab": {
          "base_uri": "https://localhost:8080/",
          "height": 567
        },
        "outputId": "84213e6a-54dc-4c7e-aa99-9b5893569322"
      },
      "source": [
        "g = sp.pairplot(tmp, hue='Play_Cricket')\n",
        "mp.show()\n"
      ],
      "execution_count": null,
      "outputs": [
        {
          "output_type": "display_data",
          "data": {
            "image/png": "[encoded data removed]",
            "text/plain": [
              "<Figure size 608.625x540 with 12 Axes>"
            ]
          },
          "metadata": {
            "tags": [],
            "needs_background": "light"
          }
        }
      ]
    },
    {
      "cell_type": "code",
      "metadata": {
        "id": "49knjYaoEg0L",
        "colab": {
          "base_uri": "https://localhost:8080/",
          "height": 366
        },
        "outputId": "27a90764-fe4a-40e4-9020-1d835ef927ff"
      },
      "source": [
        "tmp.hist()"
      ],
      "execution_count": null,
      "outputs": [
        {
          "output_type": "execute_result",
          "data": {
            "text/plain": [
              "array([[<matplotlib.axes._subplots.AxesSubplot object at 0x7fba63787f98>,\n",
              "        <matplotlib.axes._subplots.AxesSubplot object at 0x7fba63625208>],\n",
              "       [<matplotlib.axes._subplots.AxesSubplot object at 0x7fba60c832b0>,\n",
              "        <matplotlib.axes._subplots.AxesSubplot object at 0x7fba60c1b438>]],\n",
              "      dtype=object)"
            ]
          },
          "metadata": {
            "tags": []
          },
          "execution_count": 73
        },
        {
          "output_type": "display_data",
          "data": {
            "image/png": "[encoded data removed]",
            "text/plain": [
              "<Figure size 432x288 with 4 Axes>"
            ]
          },
          "metadata": {
            "tags": [],
            "needs_background": "light"
          }
        }
      ]
    },
    {
      "cell_type": "code",
      "metadata": {
        "id": "DgJVonF9Eg0Y",
        "colab": {
          "base_uri": "https://localhost:8080/",
          "height": 296
        },
        "outputId": "f06daaf7-1c13-482b-f6d3-9629e057c343"
      },
      "source": [
        "sns.boxplot(x='Height(cm)',y='Play_Cricket',data=tmp)"
      ],
      "execution_count": null,
      "outputs": [
        {
          "output_type": "execute_result",
          "data": {
            "text/plain": [
              "<matplotlib.axes._subplots.AxesSubplot at 0x7fba635ab0f0>"
            ]
          },
          "metadata": {
            "tags": []
          },
          "execution_count": 74
        },
        {
          "output_type": "display_data",
          "data": {
            "image/png": "[encoded data removed]",
            "text/plain": [
              "<Figure size 432x288 with 1 Axes>"
            ]
          },
          "metadata": {
            "tags": [],
            "needs_background": "light"
          }
        }
      ]
    },
    {
      "cell_type": "code",
      "metadata": {
        "id": "3VhTgCMkKUe9",
        "colab": {
          "base_uri": "https://localhost:8080/",
          "height": 296
        },
        "outputId": "19e6112c-264c-410a-c129-d453d792578b"
      },
      "source": [
        "sns.boxplot(x='Weight(kg)',y='Play_Cricket',data=tmp)"
      ],
      "execution_count": null,
      "outputs": [
        {
          "output_type": "execute_result",
          "data": {
            "text/plain": [
              "<matplotlib.axes._subplots.AxesSubplot at 0x7fba5f7eae10>"
            ]
          },
          "metadata": {
            "tags": []
          },
          "execution_count": 75
        },
        {
          "output_type": "display_data",
          "data": {
            "image/png": "[encoded data removed]",
            "text/plain": [
              "<Figure size 432x288 with 1 Axes>"
            ]
          },
          "metadata": {
            "tags": [],
            "needs_background": "light"
          }
        }
      ]
    },
    {
      "cell_type": "code",
      "metadata": {
        "id": "oZ6uGYeSLHct",
        "colab": {
          "base_uri": "https://localhost:8080/",
          "height": 296
        },
        "outputId": "5a9d393f-b8d5-4eb2-d016-a26fdba87ae9"
      },
      "source": [
        "sns.boxplot(x='Gender',y='Play_Cricket',data=tmp)"
      ],
      "execution_count": null,
      "outputs": [
        {
          "output_type": "execute_result",
          "data": {
            "text/plain": [
              "<matplotlib.axes._subplots.AxesSubplot at 0x7fba5f6b0470>"
            ]
          },
          "metadata": {
            "tags": []
          },
          "execution_count": 76
        },
        {
          "output_type": "display_data",
          "data": {
            "image/png": "[encoded data removed]",
            "text/plain": [
              "<Figure size 432x288 with 1 Axes>"
            ]
          },
          "metadata": {
            "tags": [],
            "needs_background": "light"
          }
        }
      ]
    },
    {
      "cell_type": "code",
      "metadata": {
        "id": "CTsvvIfALKZ5",
        "colab": {
          "base_uri": "https://localhost:8080/",
          "height": 297
        },
        "outputId": "afe94cdb-d4cd-47b7-cc52-94ce78670a1f"
      },
      "source": [
        "sns.boxplot(x='Prev_Exam_Marks',y='Play_Cricket',data=tmp)"
      ],
      "execution_count": null,
      "outputs": [
        {
          "output_type": "execute_result",
          "data": {
            "text/plain": [
              "<matplotlib.axes._subplots.AxesSubplot at 0x7fba636fa128>"
            ]
          },
          "metadata": {
            "tags": []
          },
          "execution_count": 77
        },
        {
          "output_type": "display_data",
          "data": {
            "image/png": "[encoded data removed]",
            "text/plain": [
              "<Figure size 432x288 with 1 Axes>"
            ]
          },
          "metadata": {
            "tags": [],
            "needs_background": "light"
          }
        }
      ]
    },
    {
      "cell_type": "code",
      "metadata": {
        "id": "iyuO8ej1LaMy",
        "colab": {
          "base_uri": "https://localhost:8080/",
          "height": 340
        },
        "outputId": "b8ff238e-5c3f-4e87-b034-5c1974e3bb81"
      },
      "source": [
        "tmp.loc[(df['Play_Cricket'] == 1),'Play_Cricket']='Play'\n",
        "tmp.loc[(df['Play_Cricket'] == 0),'Play_Cricket']='No-Play'\n",
        "tmp['Play_Cricket']"
      ],
      "execution_count": null,
      "outputs": [
        {
          "output_type": "execute_result",
          "data": {
            "text/plain": [
              "0        Play\n",
              "1     No-Play\n",
              "2        Play\n",
              "3     No-Play\n",
              "5        Play\n",
              "6        Play\n",
              "7        Play\n",
              "8     No-Play\n",
              "9     No-Play\n",
              "10    No-Play\n",
              "11       Play\n",
              "13    No-Play\n",
              "14       Play\n",
              "15       Play\n",
              "16    No-Play\n",
              "17    No-Play\n",
              "18    No-Play\n",
              "19       Play\n",
              "Name: Play_Cricket, dtype: object"
            ]
          },
          "metadata": {
            "tags": []
          },
          "execution_count": 78
        }
      ]
    },
    {
      "cell_type": "code",
      "metadata": {
        "id": "IQj8G2ddMEXf",
        "colab": {
          "base_uri": "https://localhost:8080/",
          "height": 296
        },
        "outputId": "42870030-a2ff-43a0-e781-98bb6ad00c24"
      },
      "source": [
        "sns.boxplot(x='Weight(kg)',y='Play_Cricket',data=tmp)"
      ],
      "execution_count": null,
      "outputs": [
        {
          "output_type": "execute_result",
          "data": {
            "text/plain": [
              "<matplotlib.axes._subplots.AxesSubplot at 0x7fba60c929b0>"
            ]
          },
          "metadata": {
            "tags": []
          },
          "execution_count": 79
        },
        {
          "output_type": "display_data",
          "data": {
            "image/png": "[encoded data removed]",
            "text/plain": [
              "<Figure size 432x288 with 1 Axes>"
            ]
          },
          "metadata": {
            "tags": [],
            "needs_background": "light"
          }
        }
      ]
    },
    {
      "cell_type": "code",
      "metadata": {
        "id": "EoPFPVpuMINV",
        "colab": {
          "base_uri": "https://localhost:8080/",
          "height": 296
        },
        "outputId": "2595424f-b7f5-4f9c-b2d3-1452a21ed56f"
      },
      "source": [
        "sns.boxplot(x='Height(cm)',y='Play_Cricket',data=tmp)"
      ],
      "execution_count": null,
      "outputs": [
        {
          "output_type": "execute_result",
          "data": {
            "text/plain": [
              "<matplotlib.axes._subplots.AxesSubplot at 0x7fba5fed2c18>"
            ]
          },
          "metadata": {
            "tags": []
          },
          "execution_count": 80
        },
        {
          "output_type": "display_data",
          "data": {
            "image/png": "[encoded data removed]",
            "text/plain": [
              "<Figure size 432x288 with 1 Axes>"
            ]
          },
          "metadata": {
            "tags": [],
            "needs_background": "light"
          }
        }
      ]
    },
    {
      "cell_type": "code",
      "metadata": {
        "id": "r5VWDmMuMOjf",
        "colab": {
          "base_uri": "https://localhost:8080/",
          "height": 297
        },
        "outputId": "a2bac536-6a87-4e09-ad45-13af7cb72056"
      },
      "source": [
        "sns.boxplot(x='Prev_Exam_Marks',y='Play_Cricket',data=tmp)\n"
      ],
      "execution_count": null,
      "outputs": [
        {
          "output_type": "execute_result",
          "data": {
            "text/plain": [
              "<matplotlib.axes._subplots.AxesSubplot at 0x7fba635b2748>"
            ]
          },
          "metadata": {
            "tags": []
          },
          "execution_count": 82
        },
        {
          "output_type": "display_data",
          "data": {
            "image/png": "[encoded data removed]",
            "text/plain": [
              "<Figure size 432x288 with 1 Axes>"
            ]
          },
          "metadata": {
            "tags": [],
            "needs_background": "light"
          }
        }
      ]
    },
    {
      "cell_type": "code",
      "metadata": {
        "id": "z_9CqGX8MTu_",
        "colab": {
          "base_uri": "https://localhost:8080/",
          "height": 804
        },
        "outputId": "0faffd7b-5c11-454a-8e48-2ccdabe715b9"
      },
      "source": [
        "\n",
        "g = sns.violinplot(y='Play_Cricket', x='Height(cm)', data=tmp, inner='quartile')\n",
        "mp.show()\n",
        "g = sns.violinplot(y='Play_Cricket', x='Weight(kg)', data=tmp, inner='quartile')\n",
        "mp.show()\n",
        "g = sns.violinplot(y='Play_Cricket', x='Prev_Exam_Marks', data=tmp, inner='quartile')\n",
        "mp.show()"
      ],
      "execution_count": null,
      "outputs": [
        {
          "output_type": "display_data",
          "data": {
            "image/png": "[encoded data removed]",
            "text/plain": [
              "<Figure size 432x288 with 1 Axes>"
            ]
          },
          "metadata": {
            "tags": [],
            "needs_background": "light"
          }
        },
        {
          "output_type": "display_data",
          "data": {
            "image/png": "[encoded data removed]",
            "text/plain": [
              "<Figure size 432x288 with 1 Axes>"
            ]
          },
          "metadata": {
            "tags": [],
            "needs_background": "light"
          }
        },
        {
          "output_type": "display_data",
          "data": {
            "image/png": "[encoded data removed]",
            "text/plain": [
              "<Figure size 432x288 with 1 Axes>"
            ]
          },
          "metadata": {
            "tags": [],
            "needs_background": "light"
          }
        }
      ]
    },
    {
      "cell_type": "code",
      "metadata": {
        "id": "UjRBQCMPM7Kv",
        "colab": {
          "base_uri": "https://localhost:8080/",
          "height": 85
        },
        "outputId": "93265719-81fd-46e5-c033-b8354b291d02"
      },
      "source": [
        "tmp.median()"
      ],
      "execution_count": null,
      "outputs": [
        {
          "output_type": "execute_result",
          "data": {
            "text/plain": [
              "Prev_Exam_Marks     50.5\n",
              "Height(cm)         159.5\n",
              "Weight(kg)          55.0\n",
              "dtype: float64"
            ]
          },
          "metadata": {
            "tags": []
          },
          "execution_count": 86
        }
      ]
    },
    {
      "cell_type": "code",
      "metadata": {
        "id": "gM0LuKPmNJ5L"
      },
      "source": [
        ""
      ],
      "execution_count": null,
      "outputs": []
    }
  ]
}